{
 "cells": [
  {
   "cell_type": "code",
   "execution_count": 1,
   "metadata": {},
   "outputs": [],
   "source": [
    "import pandas as pd\n",
    "import wandb"
   ]
  },
  {
   "cell_type": "markdown",
   "metadata": {},
   "source": [
    "## W&B Configuration"
   ]
  },
  {
   "cell_type": "code",
   "execution_count": 2,
   "metadata": {},
   "outputs": [],
   "source": [
    "WANDB_PROJECT = \"african-research-collective/afribench-masakhanews\"\n",
    "RUN_ID=\"hlpiyvrh\""
   ]
  },
  {
   "cell_type": "code",
   "execution_count": null,
   "metadata": {},
   "outputs": [],
   "source": [
    "api = wandb.Api()"
   ]
  },
  {
   "cell_type": "code",
   "execution_count": null,
   "metadata": {},
   "outputs": [
    {
     "name": "stdout",
     "output_type": "stream",
     "text": [
      "flan-t5-small-0shot\n",
      "flan-t5-small-5shot\n",
      "flan-t5-small-0shot\n",
      "flan-t5-small-5shot\n",
      "afriteva-v2-large-ayaft-0shot\n",
      "mt0-large-0shot\n",
      "flan-t5-small-0shot\n",
      "flan-t5-base-0shot\n",
      "flan-t5-large-0shot\n",
      "mt0-xl-0shot\n",
      "bloomz-1b7-0shot\n",
      "InkubaLM-0.4B-0shot\n",
      "flan-t5-large-0shot\n"
     ]
    }
   ],
   "source": [
    "for run in api.runs(WANDB_PROJECT):\n",
    "    print(run.name)"
   ]
  },
  {
   "cell_type": "code",
   "execution_count": 8,
   "metadata": {},
   "outputs": [],
   "source": [
    "run = api.run(\"african-research-collective/afribench-masakhanews/hlpiyvrh\")"
   ]
  },
  {
   "cell_type": "markdown",
   "metadata": {},
   "source": [
    "## Metrics"
   ]
  },
  {
   "cell_type": "code",
   "execution_count": null,
   "metadata": {},
   "outputs": [],
   "source": [
    "results_table = table = api.artifact(f\"{WANDB_PROJECT}/run-{RUN_ID}-Results:latest\").get(\"Results\")"
   ]
  },
  {
   "cell_type": "code",
   "execution_count": null,
   "metadata": {},
   "outputs": [],
   "source": [
    "results_df = df = pd.DataFrame(data=results_table.data, columns=results_table.columns)"
   ]
  },
  {
   "cell_type": "code",
   "execution_count": 42,
   "metadata": {},
   "outputs": [
    {
     "data": {
      "text/html": [
       "<div>\n",
       "<style scoped>\n",
       "    .dataframe tbody tr th:only-of-type {\n",
       "        vertical-align: middle;\n",
       "    }\n",
       "\n",
       "    .dataframe tbody tr th {\n",
       "        vertical-align: top;\n",
       "    }\n",
       "\n",
       "    .dataframe thead th {\n",
       "        text-align: right;\n",
       "    }\n",
       "</style>\n",
       "<table border=\"1\" class=\"dataframe\">\n",
       "  <thead>\n",
       "    <tr style=\"text-align: right;\">\n",
       "      <th></th>\n",
       "      <th>lang</th>\n",
       "      <th>task</th>\n",
       "      <th>acc</th>\n",
       "      <th>acc_stderr</th>\n",
       "      <th>f1</th>\n",
       "      <th>f1_stderr</th>\n",
       "    </tr>\n",
       "  </thead>\n",
       "  <tbody>\n",
       "    <tr>\n",
       "      <th>0</th>\n",
       "      <td>amh</td>\n",
       "      <td>masakhanews_amh_prompt_1</td>\n",
       "      <td>0.098404</td>\n",
       "      <td>0.015381</td>\n",
       "      <td>0.106161</td>\n",
       "      <td>N/A</td>\n",
       "    </tr>\n",
       "    <tr>\n",
       "      <th>1</th>\n",
       "      <td>amh</td>\n",
       "      <td>masakhanews_amh_prompt_2</td>\n",
       "      <td>0.188830</td>\n",
       "      <td>0.020210</td>\n",
       "      <td>0.072834</td>\n",
       "      <td>N/A</td>\n",
       "    </tr>\n",
       "    <tr>\n",
       "      <th>2</th>\n",
       "      <td>amh</td>\n",
       "      <td>masakhanews_amh_prompt_3</td>\n",
       "      <td>0.063830</td>\n",
       "      <td>0.012623</td>\n",
       "      <td>0.048776</td>\n",
       "      <td>N/A</td>\n",
       "    </tr>\n",
       "    <tr>\n",
       "      <th>3</th>\n",
       "      <td>amh</td>\n",
       "      <td>masakhanews_amh_prompt_4</td>\n",
       "      <td>0.122340</td>\n",
       "      <td>0.016921</td>\n",
       "      <td>0.113763</td>\n",
       "      <td>N/A</td>\n",
       "    </tr>\n",
       "    <tr>\n",
       "      <th>4</th>\n",
       "      <td>amh</td>\n",
       "      <td>masakhanews_amh_prompt_5</td>\n",
       "      <td>0.101064</td>\n",
       "      <td>0.015565</td>\n",
       "      <td>0.099966</td>\n",
       "      <td>N/A</td>\n",
       "    </tr>\n",
       "  </tbody>\n",
       "</table>\n",
       "</div>"
      ],
      "text/plain": [
       "  lang                      task       acc  acc_stderr        f1 f1_stderr\n",
       "0  amh  masakhanews_amh_prompt_1  0.098404    0.015381  0.106161       N/A\n",
       "1  amh  masakhanews_amh_prompt_2  0.188830    0.020210  0.072834       N/A\n",
       "2  amh  masakhanews_amh_prompt_3  0.063830    0.012623  0.048776       N/A\n",
       "3  amh  masakhanews_amh_prompt_4  0.122340    0.016921  0.113763       N/A\n",
       "4  amh  masakhanews_amh_prompt_5  0.101064    0.015565  0.099966       N/A"
      ]
     },
     "execution_count": 42,
     "metadata": {},
     "output_type": "execute_result"
    }
   ],
   "source": [
    "results_df.head()"
   ]
  },
  {
   "cell_type": "code",
   "execution_count": 43,
   "metadata": {},
   "outputs": [
    {
     "data": {
      "text/plain": [
       "(80, 6)"
      ]
     },
     "execution_count": 43,
     "metadata": {},
     "output_type": "execute_result"
    }
   ],
   "source": [
    "results_df.shape"
   ]
  },
  {
   "cell_type": "code",
   "execution_count": 46,
   "metadata": {},
   "outputs": [
    {
     "data": {
      "text/plain": [
       "np.float64(0.4857142857142857)"
      ]
     },
     "execution_count": 46,
     "metadata": {},
     "output_type": "execute_result"
    }
   ],
   "source": [
    "results_df.acc.max()"
   ]
  },
  {
   "cell_type": "markdown",
   "metadata": {},
   "source": [
    "## Output"
   ]
  },
  {
   "cell_type": "code",
   "execution_count": null,
   "metadata": {},
   "outputs": [],
   "source": [
    "output_table = table = api.artifact(\n",
    "    f\"{WANDB_PROJECT}/run-{RUN_ID}-afribench_eval_results:latest\").get(\"afribench_eval_results\")"
   ]
  },
  {
   "cell_type": "code",
   "execution_count": 56,
   "metadata": {},
   "outputs": [],
   "source": [
    "output_df = pd.DataFrame(data=output_table.data, columns=output_table.columns)"
   ]
  },
  {
   "cell_type": "code",
   "execution_count": 50,
   "metadata": {},
   "outputs": [
    {
     "data": {
      "text/html": [
       "<div>\n",
       "<style scoped>\n",
       "    .dataframe tbody tr th:only-of-type {\n",
       "        vertical-align: middle;\n",
       "    }\n",
       "\n",
       "    .dataframe tbody tr th {\n",
       "        vertical-align: top;\n",
       "    }\n",
       "\n",
       "    .dataframe thead th {\n",
       "        text-align: right;\n",
       "    }\n",
       "</style>\n",
       "<table border=\"1\" class=\"dataframe\">\n",
       "  <thead>\n",
       "    <tr style=\"text-align: right;\">\n",
       "      <th></th>\n",
       "      <th>lang</th>\n",
       "      <th>task</th>\n",
       "      <th>acc</th>\n",
       "      <th>acc_stderr</th>\n",
       "      <th>f1</th>\n",
       "      <th>f1_stderr</th>\n",
       "    </tr>\n",
       "  </thead>\n",
       "  <tbody>\n",
       "    <tr>\n",
       "      <th>0</th>\n",
       "      <td>amh</td>\n",
       "      <td>masakhanews_amh_prompt_1</td>\n",
       "      <td>0.098404</td>\n",
       "      <td>0.015381</td>\n",
       "      <td>0.106161</td>\n",
       "      <td>N/A</td>\n",
       "    </tr>\n",
       "    <tr>\n",
       "      <th>1</th>\n",
       "      <td>amh</td>\n",
       "      <td>masakhanews_amh_prompt_2</td>\n",
       "      <td>0.188830</td>\n",
       "      <td>0.020210</td>\n",
       "      <td>0.072834</td>\n",
       "      <td>N/A</td>\n",
       "    </tr>\n",
       "    <tr>\n",
       "      <th>2</th>\n",
       "      <td>amh</td>\n",
       "      <td>masakhanews_amh_prompt_3</td>\n",
       "      <td>0.063830</td>\n",
       "      <td>0.012623</td>\n",
       "      <td>0.048776</td>\n",
       "      <td>N/A</td>\n",
       "    </tr>\n",
       "    <tr>\n",
       "      <th>3</th>\n",
       "      <td>amh</td>\n",
       "      <td>masakhanews_amh_prompt_4</td>\n",
       "      <td>0.122340</td>\n",
       "      <td>0.016921</td>\n",
       "      <td>0.113763</td>\n",
       "      <td>N/A</td>\n",
       "    </tr>\n",
       "    <tr>\n",
       "      <th>4</th>\n",
       "      <td>amh</td>\n",
       "      <td>masakhanews_amh_prompt_5</td>\n",
       "      <td>0.101064</td>\n",
       "      <td>0.015565</td>\n",
       "      <td>0.099966</td>\n",
       "      <td>N/A</td>\n",
       "    </tr>\n",
       "  </tbody>\n",
       "</table>\n",
       "</div>"
      ],
      "text/plain": [
       "  lang                      task       acc  acc_stderr        f1 f1_stderr\n",
       "0  amh  masakhanews_amh_prompt_1  0.098404    0.015381  0.106161       N/A\n",
       "1  amh  masakhanews_amh_prompt_2  0.188830    0.020210  0.072834       N/A\n",
       "2  amh  masakhanews_amh_prompt_3  0.063830    0.012623  0.048776       N/A\n",
       "3  amh  masakhanews_amh_prompt_4  0.122340    0.016921  0.113763       N/A\n",
       "4  amh  masakhanews_amh_prompt_5  0.101064    0.015565  0.099966       N/A"
      ]
     },
     "execution_count": 50,
     "metadata": {},
     "output_type": "execute_result"
    }
   ],
   "source": [
    "output_df.head()"
   ]
  },
  {
   "cell_type": "code",
   "execution_count": 60,
   "metadata": {},
   "outputs": [
    {
     "data": {
      "text/plain": [
       "{'id': 0,\n",
       " 'data': 'Given the categories technology, business, politics, sports, health, entertainment, or religion; what category does the text: \\'የናይጄሪያ ፖሊስ በሩዝ ፋብሪካ ተቆልፎባቸው እንዲሰሩ የተገደዱ 300 ሰራተኞችን ነፃ ማውጣቱን ገለፀ የናይጄሪያ ፖሊስ በሩዝ ፋብሪካ ውስጥ ተቆልፎባቸው የነበሩ 300 ሰራተኞችን ነፃ ማውጣቱን ገልጿል። ሰራተኞቹ ከመጋቢት አጋማሽ ጀምሮ ከፋብሪካው እንዳይወጡ እግድ ተጥሎባቸውና ተቆልፎባቸው ይሰሩ ነበር ተብሏል። በሰሜናዊ ናይጄሪያ ግዛት በምትገኘው ካኖ በሚገኝ ፋብሪካ ውስጥ የሚሰሩት ሰራተኞች የኮሮናቫይረስ አስገዳጅ የቤት መቀመጥ አዋጅን ተከትሎ ወደቤታቸው እንዳይሄዱና በየወሩም ከሚያገኙት 2 ሺህ 600 ብር ደመወዝ በተጨማሪ 500 ብር እንደሚጨመርላቸው የፋብሪካው አስተዳዳሪዎች ቃል ገብተውላቸው ነበር። ወደቤታችን እንሄዳለን የሚሉት ደግሞ ከስራ እንደሚባረሩ ማስፈራራሪያም ደርሷቸዋል። በፋብሪካው ለመስራት የተስማሙ ሰራተኞች ከፋብሪካው ወጥተው መሄድ እንደማይችሉም ተነግራቸዋል። ይህንንም ተከትሎ አምስት አስተዳደር ላይ ያሉ ግለሰቦች በቁጥጥር ስር ውለዋል። የህንዶች የሆነው ፖፑላር ፋርምስ የተሰኘው ፋብሪካ  ከቢቢሲ በጉዳዩ ላይ አስተያየት እንዲሰጥ ቢጠየቅም ምላሽ ከመስጠት ተቆጥቧል። የፖሊስ ቃለ አቀባይ አብዱላሂ ሃሩና ለቢቢሲ እንደተናገሩት ፋብሪካው እንደተዘጋና ባለቤቶቹም ሰራተኞቹን ያለፍቃዳቸው በመቆለፋቸው በቁጥጥር ስር መዋላቸውን አስታውቀዋል። አንዳንድ ሰራተኞች ለቢቢሲ እንደተናገሩት የነበሩበት ሁኔታ ከእስር ያልተናነሰ እንደሆነና ትንሽ ምግብም ብቻ ይሰጣቸው እንደነበር ገልፀዋል። \"በጣም ለአጭር ጊዜ ብቻ እንድናርፍ ነበር የሚፈቀደልን። ፀሎት ማድረግ እንዲሁም ቤተሰብ እንዲጠይቀን አይፈቀድልንም ነበር\" በማለት የ28 አመቱ ሃምዛ ኢብራሂም ለቢቢሲ ተናግሯል። ፖሊስ ጉዳዩን የተረዳው አንደኛው ሰራተኛ ለሰብዓዊ መብት ድርጅት እንዲያድኗቸው በመማፀን ከላከው ደብዳቤ ነበር። \"ያየሁት ሁኔታ በጣም ልብ የሚሰብር ነው። ሰራተኞቹ ለእንስሳ እንኳን በማይመጥን ሁኔታ ነው እንዲቆዩ የተደረጉት\" በማለት የግሎባል ሂውማን ራይትስ ኔትወርክ ሰራተኛ ካሪቡ ያሃያ ካባራ ለቢቢሲ ገልፀዋል። አክለውም \"የሚሰጣቸው ምግብ በጣም አነስተኛ ነበር። ታመው ለነበሩትም ሕክምና ተከልክለዋል፤ የመድኃኒት አቅርቦት አልነበራቸውም\" ያሉት ካሪቡ ለሰራተኞቹ ፍትህንም እንደሚሹ ጠይቀዋል። የኮሮናቫይረስ ስርጭትን ለመግታት እንዲቻል ናይጄሪያ ሁሉም ፋብሪካዎችም ሆነ የንግድ ቦታዎች እንዲዘጉ ያዘዘችው መጋቢት አጋማሽ ላይ ነበር። በናይጄሪያ እስካሁን 20 ሺህ ሰዎች በቫይረሱ መያዛቸው የተረጋገጠ ሲሆን መዲናዋ ሌጎስም የስርጭቱ ማዕከል ሆናለች። ከሌጎስ በመቀጠልም የናይጄሪያ ሁለተኛ ትልቋ ከተማ ካኖም በቫይረሱ በተያዙ ሰዎች ቁጥር ትከተላለች። ወረርሽኙን ለመግታት የተላለፉ መመሪያዎች በሌሎች ቦታዎች ቢላሉም በካኖ ግን የቤት መቀመጥ አዋጁ እንዳለ ነው። ዜጎች ሰኞ፣ ረቡዕና አርብ መንግሥት በወሰነው ሰዓት ብቻ ምግብና አስፈላጊ ቁሳቁሶችን ለመሸመት ይወጣሉ።\\' belong to: \\n\\n',\n",
       " 'choices': '0.  technology\\n1.  religion\\n2.  politics\\n3.  sports\\n4.  health\\n5.  entertainment\\n6.  business',\n",
       " 'input_len': 1748,\n",
       " 'labels': 0,\n",
       " 'output_type': 'multiple_choice',\n",
       " 'raw_predictions': 6,\n",
       " 'filtered_predictions': 6,\n",
       " 'f1': [0, 6],\n",
       " 'acc': 0.0,\n",
       " 'group': 'afribench',\n",
       " 'task': 'masakhanews_amh_prompt_1'}"
      ]
     },
     "execution_count": 60,
     "metadata": {},
     "output_type": "execute_result"
    }
   ],
   "source": [
    "df.iloc[0].to_dict()"
   ]
  },
  {
   "cell_type": "markdown",
   "metadata": {},
   "source": [
    "## Delete SamplesByTask Artifacts"
   ]
  },
  {
   "cell_type": "code",
   "execution_count": 2,
   "metadata": {},
   "outputs": [],
   "source": [
    "api = wandb.Api()"
   ]
  },
  {
   "cell_type": "code",
   "execution_count": null,
   "metadata": {},
   "outputs": [],
   "source": [
    "tasks = [\n",
    "    \"afrimgsm\",\n",
    "    \"afrimmlu\",\n",
    "    \"masakhanews\",\n",
    "    \"masakhapos\",\n",
    "    \"afrixnli-direct\",\n",
    "    \"sib\",\n",
    "    \"afriqa\",\n",
    "    \"belebele\",\n",
    "    \"nollysenti\",\n",
    "    \"afrisenti\",\n",
    "    \"openaimmlu\",\n",
    "    \"naijarc\",\n",
    "    \"afrimmlu\",\n",
    "    \"afrimgsm-direct\",\n",
    "    \"afrixnli-direct\",\n",
    "]"
   ]
  },
  {
   "cell_type": "code",
   "execution_count": 13,
   "metadata": {},
   "outputs": [],
   "source": [
    "for task in tasks:\n",
    "    wandb_project = f\"african-research-collective/afribench-{task}\"\n",
    "\n",
    "    try:\n",
    "        collections = api.artifact_type(type_name=\"samples_by_task\", project=wandb_project).collections()\n",
    "        for collection in collections:\n",
    "            try:\n",
    "                collection.delete()\n",
    "            except:\n",
    "                pass\n",
    "    except:\n",
    "        print(f\"Deleting collection for {task} failed\")"
   ]
  },
  {
   "cell_type": "code",
   "execution_count": null,
   "metadata": {},
   "outputs": [],
   "source": []
  }
 ],
 "metadata": {
  "kernelspec": {
   "display_name": "afrilm-leaderboard-U00ydjeb-py3.11",
   "language": "python",
   "name": "python3"
  },
  "language_info": {
   "codemirror_mode": {
    "name": "ipython",
    "version": 3
   },
   "file_extension": ".py",
   "mimetype": "text/x-python",
   "name": "python",
   "nbconvert_exporter": "python",
   "pygments_lexer": "ipython3",
   "version": "3.11.4"
  }
 },
 "nbformat": 4,
 "nbformat_minor": 2
}
