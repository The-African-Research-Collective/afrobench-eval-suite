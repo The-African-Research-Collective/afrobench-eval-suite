{
 "cells": [
  {
   "cell_type": "code",
   "execution_count": null,
   "metadata": {},
   "outputs": [],
   "source": [
    "import os\n",
    "\n",
    "import pandas as pd\n",
    "import wandb\n",
    "from azure.storage.blob import BlobServiceClient, ContentSettings\n",
    "from dotenv import load_dotenv\n",
    "from wandb.errors import CommError"
   ]
  },
  {
   "cell_type": "code",
   "execution_count": 2,
   "metadata": {},
   "outputs": [
    {
     "data": {
      "text/plain": [
       "True"
      ]
     },
     "execution_count": 2,
     "metadata": {},
     "output_type": "execute_result"
    }
   ],
   "source": [
    "load_dotenv()"
   ]
  },
  {
   "cell_type": "markdown",
   "metadata": {},
   "source": [
    "## Azure BlobService Setup"
   ]
  },
  {
   "cell_type": "code",
   "execution_count": 3,
   "metadata": {},
   "outputs": [],
   "source": [
    "conn_string = os.getenv(\"BLOB_CONNECTION_STRING\")\n",
    "container_name = \"afribench\""
   ]
  },
  {
   "cell_type": "code",
   "execution_count": 4,
   "metadata": {},
   "outputs": [],
   "source": [
    "blob_service_client = BlobServiceClient.from_connection_string(conn_string)"
   ]
  },
  {
   "cell_type": "code",
   "execution_count": 5,
   "metadata": {},
   "outputs": [],
   "source": [
    "azure_container_client = blob_service_client.get_container_client(container_name)"
   ]
  },
  {
   "cell_type": "code",
   "execution_count": 5,
   "metadata": {},
   "outputs": [],
   "source": [
    "try:\n",
    "    _ = azure_container_client.get_container_properties()\n",
    "except Exception as e:\n",
    "    # Container foo does not exist. Create it.\n",
    "    azure_container_client.create_container()"
   ]
  },
  {
   "cell_type": "markdown",
   "metadata": {},
   "source": [
    "## W&B Setup"
   ]
  },
  {
   "cell_type": "code",
   "execution_count": 7,
   "metadata": {},
   "outputs": [],
   "source": [
    "api = wandb.Api()"
   ]
  },
  {
   "cell_type": "markdown",
   "metadata": {},
   "source": [
    "## AfriBench Upload"
   ]
  },
  {
   "cell_type": "code",
   "execution_count": null,
   "metadata": {},
   "outputs": [],
   "source": [
    "tasks = [\n",
    "    \"afrimgsm\",\n",
    "    \"afrimmlu\"\n",
    "    \"masakhanews\",\n",
    "    \"afrixnli-direct\",\n",
    "    \"sib\",\n",
    "    \"afriqa\",\n",
    "    \"belebele\",\n",
    "    \"nollysenti\",\n",
    "    \"afrisenti\",\n",
    "    \"openaimmlu\",\n",
    "    \"naijarc\",\n",
    "]"
   ]
  },
  {
   "cell_type": "code",
   "execution_count": 19,
   "metadata": {},
   "outputs": [
    {
     "name": "stderr",
     "output_type": "stream",
     "text": [
      "\u001b[34m\u001b[1mwandb\u001b[0m:   1 of 1 files downloaded.  \n",
      "\u001b[34m\u001b[1mwandb\u001b[0m:   1 of 1 files downloaded.  \n"
     ]
    }
   ],
   "source": [
    "for task in tasks:\n",
    "    wandb_project = f\"african-research-collective/afribench-{task}\"\n",
    "\n",
    "    for run in api.runs(wandb_project):\n",
    "\n",
    "        blob_client = azure_container_client.get_blob_client(f\"{task}/{run.name}/results.csv\")\n",
    "        if not blob_client.exists():\n",
    "            try:\n",
    "                results_table = table = api.artifact(f\"{wandb_project}/run-{run.id}-Results:latest\").get(\"Results\")\n",
    "                results_csv = df = pd.DataFrame(data=results_table.data, columns=results_table.columns).to_csv()\n",
    "            except (ValueError, CommError):\n",
    "                continue\n",
    "\n",
    "            blob_client.upload_blob(data=results_csv, overwrite=True, content_settings=ContentSettings(content_type=\"text/csv\"))\n",
    "\n",
    "        blob_client = azure_container_client.get_blob_client(f\"{task}/{run.name}/complete_evaluation_results.csv\")\n",
    "        if not blob_client.exists():\n",
    "            try:\n",
    "                output_artifact = table = api.artifact(\n",
    "                    f\"{wandb_project}/run-{run.id}-afribench_eval_results:latest\")\n",
    "                output_table = output_artifact.get(\"afribench_eval_results\")\n",
    "                output_csv = pd.DataFrame(data=output_table.data, columns=output_table.columns).to_csv()\n",
    "            except (ValueError, CommError):\n",
    "                continue\n",
    "        \n",
    "            blob_client.upload_blob(data=output_csv, overwrite=True, content_settings=ContentSettings(content_type=\"text/csv\"))\n",
    "            output_artifact.delete(delete_aliases=True)"
   ]
  },
  {
   "cell_type": "code",
   "execution_count": null,
   "metadata": {},
   "outputs": [],
   "source": []
  }
 ],
 "metadata": {
  "kernelspec": {
   "display_name": "afrilm-leaderboard-U00ydjeb-py3.11",
   "language": "python",
   "name": "python3"
  },
  "language_info": {
   "codemirror_mode": {
    "name": "ipython",
    "version": 3
   },
   "file_extension": ".py",
   "mimetype": "text/x-python",
   "name": "python",
   "nbconvert_exporter": "python",
   "pygments_lexer": "ipython3",
   "version": "3.11.4"
  }
 },
 "nbformat": 4,
 "nbformat_minor": 2
}
